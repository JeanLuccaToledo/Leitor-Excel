{
 "cells": [
  {
   "cell_type": "code",
   "execution_count": 4,
   "metadata": {},
   "outputs": [],
   "source": [
    "import csv\n",
    "from fpdf import FPDF\n",
    "\n",
    "class Curso:\n",
    "    def __init__(self, nome):\n",
    "        self.nome = nome\n",
    "\n",
    "class Aluno:\n",
    "    def __init__(self, nome, curso, nota1, nota2, nota3):\n",
    "        self.nome = nome\n",
    "        self.curso = curso\n",
    "        self.notas = [nota1, nota2, nota3]\n",
    "        self.media = self.calcular_media()\n",
    "\n",
    "    def calcular_media(self):\n",
    "        return sum(self.notas) / len(self.notas)\n",
    "\n",
    "def ler_arquivo_csv(caminho_arquivo):\n",
    "    alunos = []\n",
    "    with open(caminho_arquivo, mode='r', encoding='utf-8') as file:\n",
    "        reader = csv.DictReader(file)\n",
    "        for row in reader:\n",
    "            aluno = Aluno(\n",
    "                nome=row['nome'],\n",
    "                curso=Curso(row['curso']),\n",
    "                nota1=float(row['nota1']),\n",
    "                nota2=float(row['nota2']),\n",
    "                nota3=float(row['nota3'])\n",
    "            )\n",
    "            alunos.append(aluno)\n",
    "    return alunos\n",
    "\n",
    "def gerar_relatorio_pdf(aluno):\n",
    "    pdf = FPDF()\n",
    "    pdf.add_page()\n",
    "    pdf.set_font(\"Arial\", size=12)\n",
    "    \n",
    "    pdf.cell(200, 10, txt=f\"Relatório do Aluno: {aluno.nome}\", ln=True, align='C')\n",
    "    pdf.cell(200, 10, txt=f\"Curso: {aluno.curso.nome}\", ln=True)\n",
    "    \n",
    "    pdf.cell(200, 10, txt=\"Notas:\", ln=True)\n",
    "    pdf.cell(200, 10, txt=f\"Nota 1: {aluno.notas[0]}\", ln=True)\n",
    "    pdf.cell(200, 10, txt=f\"Nota 2: {aluno.notas[1]}\", ln=True)\n",
    "    pdf.cell(200, 10, txt=f\"Nota 3: {aluno.notas[2]}\", ln=True)\n",
    "    \n",
    "    pdf.cell(200, 10, txt=f\"Média Final: {aluno.media:.2f}\", ln=True)\n",
    "\n",
    "    pdf.output(f\"relatorio_{aluno.nome}.pdf\")\n",
    "\n",
    "def main():\n",
    "    caminho_arquivo = \"alunos.csv\"\n",
    "    \n",
    "    alunos = ler_arquivo_csv(caminho_arquivo)\n",
    "    \n",
    "    for aluno in alunos:\n",
    "        gerar_relatorio_pdf(aluno)\n",
    "    \n",
    "        print(\"Relatórios gerados com sucesso!\")\n",
    "\n",
    "        if __name__ == \"__main__\":\n",
    "            main()"
   ]
  },
  {
   "cell_type": "code",
   "execution_count": null,
   "metadata": {},
   "outputs": [],
   "source": [
    "from fpdf import FDPF"
   ]
  }
 ],
 "metadata": {
  "kernelspec": {
   "display_name": "Python 3",
   "language": "python",
   "name": "python3"
  },
  "language_info": {
   "codemirror_mode": {
    "name": "ipython",
    "version": 3
   },
   "file_extension": ".py",
   "mimetype": "text/x-python",
   "name": "python",
   "nbconvert_exporter": "python",
   "pygments_lexer": "ipython3",
   "version": "3.12.7"
  }
 },
 "nbformat": 4,
 "nbformat_minor": 2
}
